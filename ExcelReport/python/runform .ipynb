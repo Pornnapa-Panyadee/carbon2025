{
 "cells": [
  {
   "cell_type": "code",
   "execution_count": 41,
   "id": "a8f9a650",
   "metadata": {},
   "outputs": [],
   "source": [
    "import openpyxl\n",
    "from openpyxl import load_workbook\n",
    "from openpyxl.drawing.image import Image\n",
    "from openpyxl.utils import units\n",
    "import requests\n",
    "from datetime import datetime\n",
    "import requests\n",
    "import shutil\n"
   ]
  },
  {
   "cell_type": "code",
   "execution_count": 2,
   "id": "2bcc95bb",
   "metadata": {},
   "outputs": [],
   "source": [
    "def thai_date_format(iso_date_str):\n",
    "    # แปลง string เป็น datetime object\n",
    "    dt = datetime.fromisoformat(iso_date_str.replace(\"Z\", \"+00:00\"))\n",
    "    \n",
    "    # สร้างชื่อเดือนภาษาไทย\n",
    "    months_th = [\"\", \"มกราคม\", \"กุมภาพันธ์\", \"มีนาคม\", \"เมษายน\", \"พฤษภาคม\",\n",
    "                 \"มิถุนายน\", \"กรกฎาคม\", \"สิงหาคม\", \"กันยายน\", \"ตุลาคม\",\n",
    "                 \"พฤศจิกายน\", \"ธันวาคม\"]\n",
    "    \n",
    "    day = dt.day\n",
    "    month = months_th[dt.month]\n",
    "    year = dt.year + 543  # เปลี่ยนเป็นปี พ.ศ.\n",
    "    \n",
    "    return f\"{day} {month} {year}\""
   ]
  },
  {
   "cell_type": "code",
   "execution_count": 43,
   "id": "386ed3e0",
   "metadata": {},
   "outputs": [],
   "source": [
    "form1 = \"http://localhost:3000/api/v1/f1/1004/6\"\n",
    "form41= \"http://localhost:3000/api/v1/f4-1/item/6\""
   ]
  },
  {
   "cell_type": "code",
   "execution_count": 45,
   "id": "6e2966ee",
   "metadata": {},
   "outputs": [
    {
     "name": "stdout",
     "output_type": "stream",
     "text": [
      "{'product_id': 6, 'company_id': 1004, 'product_name_th': 'test', 'product_name_en': 'test', 'scope': '', 'FU_th': 'test', 'FU_en': 'test', 'sale_ratio': 'test', 'pcr_reference': 'test', 'collect_data_start': '2025-05-26T17:00:00.000Z', 'collect_data_end': '2025-05-26T17:00:00.000Z', 'product_photo': 'public/product/1.jpg', 'auditor_id': None, 'verify_status': 'unverified', 'submitted_round': 'test', 'submitted_date': '2025-05-27T05:00:52.000Z', 'created_date': None, 'updated_date': None}\n",
      "{'company_id': 1004, 'user_id': 2, 'name': 'BBBB', 'address': 'BBBB', 'province_id': 1, 'contact_no': None, 'industrial_id': None, 'created_date': '2025-05-28T12:00:42.000Z', 'updated_date': '2025-05-28T12:00:42.000Z'}\n",
      "{'report_41_id': 6, 'company_id': 1004, 'product_id': 6, 'process_id': 2, 'life_cycle_phase': 2, 'item_name': 'Electricity', 'item_unit': 'unit1', 'item_quantity': 1500, 'lci_source_period': '2022', 'ef': 0.4, 'ef_source': 'source1', 'ef_source_ref': 'Thailand', 'transport_type': 'type1', 'ratio': 100, 'ghg_emission': 68, 'ghg_emission_proportion': 34, 'cut_off': 0, 'description': 'Energy use in production process', 'created_date': None, 'updated_date': None}\n"
     ]
    }
   ],
   "source": [
    "form1 = requests.get(form1)\n",
    "if form1.status_code == 200:\n",
    "    data = form1.json()\n",
    "\n",
    "    # แสดงข้อมูลจาก JSON\n",
    "    product = data[\"product\"]\n",
    "    company = data[\"company\"]\n",
    "\n",
    "    print(product)\n",
    "    print(company)\n",
    "else:\n",
    "    print(\"เกิดข้อผิดพลาดในการเรียก API:\", response.status_code)\n",
    "\n",
    "form41 = requests.get(form41)\n",
    "if form41.status_code == 200:\n",
    "    data41 = form41.json()\n",
    "    print(data41)\n",
    "else:\n",
    "    print(\"เกิดข้อผิดพลาดในการเรียก API:\", form41.status_code)\n",
    " "
   ]
  },
  {
   "cell_type": "code",
   "execution_count": 53,
   "id": "b0eef374",
   "metadata": {},
   "outputs": [
    {
     "data": {
      "text/plain": [
       "'../excel/BBBB_test.xlsx'"
      ]
     },
     "execution_count": 53,
     "metadata": {},
     "output_type": "execute_result"
    }
   ],
   "source": [
    "file_path = \"../excel/form_CFP.xlsx\"\n",
    "output_path = \"../excel/\"+company[\"name\"]+\"_\"+product[\"product_name_en\"]+\".xlsx\"\n",
    "shutil.copy(file_path, output_path)"
   ]
  },
  {
   "cell_type": "code",
   "execution_count": 54,
   "id": "6a0585a0",
   "metadata": {},
   "outputs": [],
   "source": [
    "\n",
    "product = data[\"product\"]\n",
    "company = data[\"company\"]\n",
    "start = thai_date_format(product[\"collect_data_start\"])\n",
    "end = thai_date_format(product[\"collect_data_end\"])\n",
    "date_range = f\"{start} - {end}\""
   ]
  },
  {
   "cell_type": "code",
   "execution_count": 56,
   "id": "19273e02",
   "metadata": {},
   "outputs": [
    {
     "name": "stdout",
     "output_type": "stream",
     "text": [
      "เขียนข้อมูลใน Excel เรียบร้อยแล้ว\n"
     ]
    }
   ],
   "source": [
    "wb = load_workbook(file_path)\n",
    "ws01 = wb[\"Fr-01\"] # หรือระบุชื่อ sheet: wb[\"Sheet1\"]\n",
    "ws41 = wb[\"Fr-04.1\"]\n",
    "\n",
    "# 4. เขียนข้อความในเซลล์ I2\n",
    "ws01[\"J2\"] = date_range\n",
    "\n",
    "ws01[\"F5\"] = company.get(\"name\", \"\")\n",
    "ws01[\"F6\"] = product.get(\"product_name_th\", \"\")\n",
    "ws01[\"J10\"] = product.get(\"product_name_th\", \"\")\n",
    "ws01[\"J11\"] = product.get(\"product_name_en\", \"\")\n",
    "ws01[\"J12\"] = product.get(\"scope\", \"\")\n",
    "ws01[\"J13\"] = product.get(\"FU_th\", \"\")\n",
    "ws01[\"J14\"] = product.get(\"FU_en\", \"\")\n",
    "ws01[\"J17\"] = product.get(\"sale_ratio\", \"\")\n",
    "ws01[\"J24\"] = product.get(\"pcr_reference\", \"\")\n",
    "\n",
    "submitted_date_thai = thai_date_format(product.get(\"submitted_date\"))\n",
    "ws01[\"J25\"] = submitted_date_thai\n",
    "\n",
    "# image \n",
    "image_url = \"../../\"+product.get(\"product_photo\")\n",
    "img = Image(image_url)  # รูปที่ต้องการ\n",
    "img.width = 300 \n",
    "img.height = 300  # กำหนดขนาดของรูป\n",
    "ws01.add_image(img, \"B12\")  # ระบุตำแหน่ง cell\n",
    "\n",
    "\n",
    "\n",
    "ws41[\"C2\"] = company.get(\"name\", \"\")\n",
    "\n",
    "\n",
    "wb.save(output_path)\n",
    "print(\"เขียนข้อมูลใน Excel เรียบร้อยแล้ว\")"
   ]
  },
  {
   "cell_type": "code",
   "execution_count": null,
   "id": "c50c9a01",
   "metadata": {},
   "outputs": [],
   "source": []
  },
  {
   "cell_type": "code",
   "execution_count": null,
   "id": "fdcb7a14",
   "metadata": {},
   "outputs": [],
   "source": []
  }
 ],
 "metadata": {
  "kernelspec": {
   "display_name": "Python 3",
   "language": "python",
   "name": "python3"
  },
  "language_info": {
   "codemirror_mode": {
    "name": "ipython",
    "version": 3
   },
   "file_extension": ".py",
   "mimetype": "text/x-python",
   "name": "python",
   "nbconvert_exporter": "python",
   "pygments_lexer": "ipython3",
   "version": "3.12.0"
  }
 },
 "nbformat": 4,
 "nbformat_minor": 5
}
